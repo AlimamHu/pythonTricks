{
 "cells": [
  {
   "cell_type": "markdown",
   "id": "written-depth",
   "metadata": {},
   "source": [
    "#  Dictanory with some function"
   ]
  },
  {
   "cell_type": "markdown",
   "id": "single-vitamin",
   "metadata": {},
   "source": [
    "* normal methods in python3"
   ]
  },
  {
   "cell_type": "code",
   "execution_count": null,
   "id": "roman-glucose",
   "metadata": {},
   "outputs": [],
   "source": [
    "customer_arrival_times=[('tony',1),('sam',2),('tony',33)]"
   ]
  },
  {
   "cell_type": "code",
   "execution_count": null,
   "id": "practical-physics",
   "metadata": {
    "scrolled": true
   },
   "outputs": [],
   "source": [
    "dic1={}\n",
    "for name, time in customer_arrival_times:\n",
    "    dic1[name]=[time]"
   ]
  },
  {
   "cell_type": "code",
   "execution_count": null,
   "id": "occupied-animal",
   "metadata": {},
   "outputs": [],
   "source": [
    "dic1"
   ]
  },
  {
   "cell_type": "markdown",
   "id": "internal-stylus",
   "metadata": {},
   "source": [
    "#####   Using some modules \n",
    "~~~\n",
    "list convert into dict\n",
    "~~~"
   ]
  },
  {
   "cell_type": "code",
   "execution_count": null,
   "id": "preliminary-consumer",
   "metadata": {},
   "outputs": [],
   "source": [
    "from collections import defaultdict"
   ]
  },
  {
   "cell_type": "code",
   "execution_count": null,
   "id": "studied-blink",
   "metadata": {},
   "outputs": [],
   "source": [
    "example_defualt=defaultdict(list)"
   ]
  },
  {
   "cell_type": "code",
   "execution_count": null,
   "id": "future-importance",
   "metadata": {},
   "outputs": [],
   "source": [
    "for name , time in customer_arrival_times:\n",
    "    example_defualt[name].append(time)"
   ]
  },
  {
   "cell_type": "code",
   "execution_count": null,
   "id": "weighted-palace",
   "metadata": {},
   "outputs": [],
   "source": [
    "example_defualt"
   ]
  },
  {
   "cell_type": "markdown",
   "id": "dried-negative",
   "metadata": {},
   "source": [
    "####  few methods for dict"
   ]
  },
  {
   "cell_type": "raw",
   "id": "mathematical-footage",
   "metadata": {},
   "source": [
    "'copy',\n",
    " 'fromkeys',\n",
    " 'get',\n",
    " 'items',\n",
    " 'keys',\n",
    " 'pop',\n",
    " 'popitem',\n",
    " 'setdefault',\n",
    " 'update',\n",
    " 'values'"
   ]
  },
  {
   "cell_type": "markdown",
   "id": "expensive-smoke",
   "metadata": {},
   "source": [
    "Collapsing nested dictionaries to simplify your code"
   ]
  },
  {
   "cell_type": "code",
   "execution_count": null,
   "id": "intellectual-bangkok",
   "metadata": {},
   "outputs": [],
   "source": [
    "nested_dict={\n",
    "    'clients':{\n",
    "        'joe':1,\n",
    "        'tom':2\n",
    "    },\n",
    "    'vendors':{\n",
    "        'creative_soft':44,\n",
    "        'office_space':33\n",
    "    }\n",
    "\n",
    "}"
   ]
  },
  {
   "cell_type": "code",
   "execution_count": null,
   "id": "genetic-prisoner",
   "metadata": {},
   "outputs": [],
   "source": [
    "for dic1 , dic2  in nested_dict.items():\n",
    "    for ke , it in dic2.items():\n",
    "        print(ke , )"
   ]
  },
  {
   "cell_type": "code",
   "execution_count": null,
   "id": "interracial-salad",
   "metadata": {},
   "outputs": [],
   "source": [
    "nested_dict.values()"
   ]
  },
  {
   "cell_type": "code",
   "execution_count": null,
   "id": "editorial-quest",
   "metadata": {},
   "outputs": [],
   "source": [
    "nested_dict.get('clients').get('joe')\n",
    "# both are giving same values OK.\n",
    "nested_dict['clients']['joe']"
   ]
  },
  {
   "cell_type": "code",
   "execution_count": null,
   "id": "central-humidity",
   "metadata": {
    "scrolled": true
   },
   "outputs": [],
   "source": [
    "def flatten_dict(dictionary, key_prefix='', separator='.'):\n",
    "    reasult=[]\n",
    "    for k , v in dictionary.items():\n",
    "        flatten_key= key_prefix+k\n",
    "        if isinstance(v, dict):\n",
    "            reasult.extend(\n",
    "            flatten_dict(v, flatten_key+separator, separator=separator).items())\n",
    "            #             print('hi')\n",
    "        else:\n",
    "            reasult.append((flatten_key,v))\n",
    "    return dict(reasult)\n",
    "flatten_dict(nested_dict)"
   ]
  },
  {
   "cell_type": "markdown",
   "id": "equivalent-wilson",
   "metadata": {},
   "source": [
    "mini switch catch "
   ]
  },
  {
   "cell_type": "code",
   "execution_count": null,
   "id": "acknowledged-command",
   "metadata": {},
   "outputs": [],
   "source": [
    "def case1():\n",
    "    print('this is case1 ')\n",
    "def case2():\n",
    "    print('this is case2')\n",
    "def case3():\n",
    "    print('this is case3')\n",
    "\n",
    "switch_case={\n",
    "    '1':case1,\n",
    "    '2':case2,\n",
    "    '3':case3         # min switch cases\n",
    "}"
   ]
  },
  {
   "cell_type": "code",
   "execution_count": null,
   "id": "representative-helping",
   "metadata": {},
   "outputs": [],
   "source": [
    "switch_case['2']()"
   ]
  },
  {
   "cell_type": "markdown",
   "id": "confirmed-checkout",
   "metadata": {},
   "source": [
    "~~~\n",
    "fastly calling function by using\n",
    "dictorary\n",
    "~~~"
   ]
  },
  {
   "cell_type": "code",
   "execution_count": null,
   "id": "effective-trust",
   "metadata": {},
   "outputs": [],
   "source": [
    "def def_termin(x):\n",
    "    return {\n",
    "        'x':1,\n",
    "        'y':2,\n",
    "    }[x]\n",
    "def_termin('y') # change there key and get values from the dict"
   ]
  },
  {
   "cell_type": "code",
   "execution_count": null,
   "id": "welcome-immune",
   "metadata": {},
   "outputs": [],
   "source": [
    "x=[('tom',2),('jone',4)]\n",
    "y=[('rohan',4),('vikas',55)]\n",
    "dict(y)"
   ]
  },
  {
   "cell_type": "markdown",
   "id": "eleven-insertion",
   "metadata": {},
   "source": [
    "~~~\n",
    "task for merging to dictnory \n",
    "~~~"
   ]
  },
  {
   "cell_type": "code",
   "execution_count": null,
   "id": "standard-might",
   "metadata": {
    "scrolled": true
   },
   "outputs": [],
   "source": [
    "x_={'tom': 2, 'jone': 4} \n",
    "y_={'rohan': 4, 'vikas': 55}"
   ]
  },
  {
   "cell_type": "code",
   "execution_count": null,
   "id": "pretty-ordinance",
   "metadata": {},
   "outputs": [],
   "source": [
    "list(x_)"
   ]
  },
  {
   "cell_type": "code",
   "execution_count": null,
   "id": "extended-retention",
   "metadata": {},
   "outputs": [],
   "source": [
    "dict(x_,y_)\n",
    " \n",
    "x_+y_         # THERE WAS RISISNG A ERROR "
   ]
  },
  {
   "cell_type": "code",
   "execution_count": null,
   "id": "classical-spiritual",
   "metadata": {},
   "outputs": [],
   "source": [
    "you=[x_,y_]\n",
    "z={}\n",
    "\n",
    "for i in you:\n",
    "#     print(i.keys())\n",
    "    for key, value in i.items():\n",
    "        z[key]=value\n",
    "\n",
    "z"
   ]
  },
  {
   "cell_type": "markdown",
   "id": "behind-hotel",
   "metadata": {},
   "source": [
    "^ above code  & v blow code same output"
   ]
  },
  {
   "cell_type": "code",
   "execution_count": null,
   "id": "electric-characterization",
   "metadata": {},
   "outputs": [],
   "source": [
    "dict(**x_,**y_)"
   ]
  },
  {
   "cell_type": "markdown",
   "id": "finished-repository",
   "metadata": {},
   "source": [
    "#### by use list comprehansion using "
   ]
  },
  {
   "cell_type": "code",
   "execution_count": null,
   "id": "challenging-jungle",
   "metadata": {},
   "outputs": [],
   "source": [
    "x=['a','b','c']\n",
    "y=[1,2,3]\n",
    "z={}\n",
    "for i in range(len(x)):\n",
    "    z[x[i]]=y[i]"
   ]
  },
  {
   "cell_type": "code",
   "execution_count": null,
   "id": "removable-dollar",
   "metadata": {},
   "outputs": [],
   "source": [
    "z"
   ]
  },
  {
   "cell_type": "code",
   "execution_count": null,
   "id": "challenging-diamond",
   "metadata": {},
   "outputs": [],
   "source": [
    "z={}\n",
    "for k,v in zip(x,y):\n",
    "    z[k]=v"
   ]
  },
  {
   "cell_type": "code",
   "execution_count": null,
   "id": "correct-japan",
   "metadata": {},
   "outputs": [],
   "source": [
    "dict((k,v) for k,v in zip(x,y))"
   ]
  },
  {
   "cell_type": "code",
   "execution_count": null,
   "id": "corporate-trinity",
   "metadata": {},
   "outputs": [],
   "source": []
  }
 ],
 "metadata": {
  "kernelspec": {
   "display_name": "Python 3",
   "language": "python",
   "name": "python3"
  },
  "language_info": {
   "codemirror_mode": {
    "name": "ipython",
    "version": 3
   },
   "file_extension": ".py",
   "mimetype": "text/x-python",
   "name": "python",
   "nbconvert_exporter": "python",
   "pygments_lexer": "ipython3",
   "version": "3.9.2"
  }
 },
 "nbformat": 4,
 "nbformat_minor": 5
}

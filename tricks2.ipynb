{
 "cells": [
  {
   "cell_type": "markdown",
   "id": "stylish-basics",
   "metadata": {},
   "source": [
    "#  Dictanory with some function"
   ]
  },
  {
   "cell_type": "markdown",
   "id": "lightweight-cleaners",
   "metadata": {},
   "source": [
    "* normal methods in python3"
   ]
  },
  {
   "cell_type": "code",
   "execution_count": 1,
   "id": "agreed-banana",
   "metadata": {},
   "outputs": [],
   "source": [
    "customer_arrival_times=[('tony',1),('sam',2),('tony',33)]"
   ]
  },
  {
   "cell_type": "code",
   "execution_count": 2,
   "id": "excellent-madison",
   "metadata": {
    "scrolled": true
   },
   "outputs": [],
   "source": [
    "dic1={}\n",
    "for name, time in customer_arrival_times:\n",
    "    dic1[name]=[time]"
   ]
  },
  {
   "cell_type": "code",
   "execution_count": 3,
   "id": "unavailable-montana",
   "metadata": {},
   "outputs": [
    {
     "data": {
      "text/plain": [
       "{'tony': [33], 'sam': [2]}"
      ]
     },
     "execution_count": 3,
     "metadata": {},
     "output_type": "execute_result"
    }
   ],
   "source": [
    "dic1"
   ]
  },
  {
   "cell_type": "markdown",
   "id": "apart-footage",
   "metadata": {},
   "source": [
    "#####   Using some modules \n",
    "~~~\n",
    "list convert into dict\n",
    "~~~"
   ]
  },
  {
   "cell_type": "code",
   "execution_count": 4,
   "id": "atmospheric-feeding",
   "metadata": {},
   "outputs": [],
   "source": [
    "from collections import defaultdict"
   ]
  },
  {
   "cell_type": "code",
   "execution_count": 5,
   "id": "linear-situation",
   "metadata": {},
   "outputs": [],
   "source": [
    "example_defualt=defaultdict(list)"
   ]
  },
  {
   "cell_type": "code",
   "execution_count": 6,
   "id": "middle-proxy",
   "metadata": {},
   "outputs": [],
   "source": [
    "for name , time in customer_arrival_times:\n",
    "    example_defualt[name].append(time)"
   ]
  },
  {
   "cell_type": "code",
   "execution_count": 7,
   "id": "weekly-replica",
   "metadata": {},
   "outputs": [
    {
     "data": {
      "text/plain": [
       "defaultdict(list, {'tony': [1, 33], 'sam': [2]})"
      ]
     },
     "execution_count": 7,
     "metadata": {},
     "output_type": "execute_result"
    }
   ],
   "source": [
    "example_defualt"
   ]
  },
  {
   "cell_type": "markdown",
   "id": "suburban-benjamin",
   "metadata": {},
   "source": [
    "####  few methods for dict"
   ]
  },
  {
   "cell_type": "raw",
   "id": "actual-cylinder",
   "metadata": {},
   "source": [
    "'copy',\n",
    " 'fromkeys',\n",
    " 'get',\n",
    " 'items',\n",
    " 'keys',\n",
    " 'pop',\n",
    " 'popitem',\n",
    " 'setdefault',\n",
    " 'update',\n",
    " 'values'"
   ]
  },
  {
   "cell_type": "code",
   "execution_count": null,
   "id": "crazy-electricity",
   "metadata": {},
   "outputs": [],
   "source": []
  }
 ],
 "metadata": {
  "kernelspec": {
   "display_name": "Python 3",
   "language": "python",
   "name": "python3"
  },
  "language_info": {
   "codemirror_mode": {
    "name": "ipython",
    "version": 3
   },
   "file_extension": ".py",
   "mimetype": "text/x-python",
   "name": "python",
   "nbconvert_exporter": "python",
   "pygments_lexer": "ipython3",
   "version": "3.9.2"
  }
 },
 "nbformat": 4,
 "nbformat_minor": 5
}
